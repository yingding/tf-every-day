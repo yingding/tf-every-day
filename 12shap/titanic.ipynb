{
 "cells": [
  {
   "attachments": {},
   "cell_type": "markdown",
   "metadata": {},
   "source": [
    "# SHAP 101 - explaining ml models and beyond\n",
    "\n",
    "### Feature Attributions\n",
    "* SHAP (SHapley Additive exPlanations) - https://shap.readthedocs.io/en/latest/\n",
    "* Understand individual predictions - https://www.kaggle.com/code/dansbecker/shap-values/tutorial\n",
    "* Aggregate SHAP values for even more detailed model insights - https://www.kaggle.com/code/dansbecker/advanced-uses-of-shap-values/tutorial\n",
    "\n",
    "* Convert SHAP Score to percentage: https://medium.com/towards-data-science/* black-box-models-are-actually-more-explainable-than-a-logistic-regression-f263c22795d\n",
    "\n",
    "### Partial Dependence Plot\n",
    "* Partial Dependence Plot Theory - https://christophm.github.io/interpretable-ml-book/pdp.html\n",
    "* Partial Dependence Plots - https://scikit-learn.org/stable/modules/partial_dependence.html\n",
    "\n",
    "### Additional References\n",
    "* Fairlearn - https://fairlearn.org\n",
    "* squaredev.io - https://github.com/squaredev-io/explainable-ai\n",
    "* Rerun-sdk - https://pypi.org/project/rerun-sdk/\n",
    "\n",
    "### Pandas \n",
    "* Working with missing value - https://pandas.pydata.org/docs/user_guide/missing_data.html\n",
    "* show max columns - https://stackoverflow.com/questions/11707586/how-do-i-expand-the-output-display-to-see-more-columns-of-a-pandas-dataframe/11711637#11711637\n",
    "* DataFrame types with dtypes - https://pandas.pydata.org/docs/reference/api/pandas.DataFrame.dtypes.html\n",
    "\n",
    "### Scikit-Learn\n",
    "* Custom Demo Classifier _ https://scikit-learn.org/stable/developers/develop.html\n",
    "* Custom Classification Model - https://towardsdatascience.com/how-to-create-custom-scikit-learn-classification-and-regression-models-70db7e76addd\n",
    "* Custom ensemble Model - https://towardsdatascience.com/how-to-build-a-custom-estimator-for-scikit-learn-fddc0cb9e16e?gi=b6f190dcd368\n",
    "* Custom Regression Model - https://towardsdatascience.com/building-a-custom-model-in-scikit-learn-b0da965a1299\n",
    "\n",
    "### Model validation\n",
    "Confusion Matrix, ROC, AUC - https://towardsdatascience.com/intuition-behind-roc-auc-score-1456439d1f30?gi=c4b96aa0c60e"
   ]
  },
  {
   "attachments": {},
   "cell_type": "markdown",
   "metadata": {},
   "source": [
    "# Kaggle Titanic Compitition\n",
    "https://www.kaggle.com/competitions/titanic\n",
    "\n",
    "### Data Description\n",
    "https://www.kaggle.com/competitions/titanic/data?select=train.csv\n",
    "\n",
    "| Variable | Definition\t| Key | \n",
    "| :--- | :--- | :--- |\n",
    "| survival | Survival |\t0 = No, 1 = Yes |\n",
    "| pclass   | Ticket class |\t1 = 1st, 2 = 2nd, 3 = 3rd |\n",
    "| sex |\tSex\t| |\n",
    "| Age |\tAge | in years | \t\n",
    "| sibsp\t| # of siblings / spouses aboard the Titanic |\t\n",
    "| parch\t| # of parents / children aboard the Titanic |\t\n",
    "| ticket |\tTicket number | |\t\n",
    "| fare | Passenger fare | (Y.W.: Ticket price paid)  |\t\n",
    "| cabin\t| Cabin number | |\t\n",
    "| embarked\t| Port of Embarkation |\tC = Cherbourg, Q = Queenstown, S = Southampton |\n",
    "\n",
    "### Variable Notes\n",
    "\n",
    "**pclass:** A proxy for socio-economic status (SES)\n",
    "* 1st = Upper\n",
    "* 2nd = Middle\n",
    "* 3rd = Lower\n",
    "\n",
    "**age:** Age is fractional if less than 1. If the age is estimated, is it in the form of xx.5\n",
    "\n",
    "**sibsp:** The dataset defines family relations in this way...\n",
    "* Sibling = brother, sister, stepbrother, stepsister\n",
    "* Spouse = husband, wife (mistresses and fiancés were ignored)\n",
    "\n",
    "**parch:** The dataset defines family relations in this way...\n",
    "* Parent = mother, father\n",
    "* Child = daughter, son, stepdaughter, stepson\n",
    "\n",
    "Some children travelled only with a nanny, therefore parch=0 for them."
   ]
  },
  {
   "cell_type": "code",
   "execution_count": 54,
   "metadata": {},
   "outputs": [],
   "source": [
    "# graphic display modes\n",
    "%matplotlib inline\n",
    "DARK_MODE = True"
   ]
  },
  {
   "cell_type": "code",
   "execution_count": 55,
   "metadata": {},
   "outputs": [],
   "source": [
    "from utils.util import (\n",
    "    KaggleData, \n",
    "    current_dir_subpath, \n",
    "    na_columns_mask, \n",
    "    profile, \n",
    "    feature_correlation, \n",
    "    na_columns,\n",
    "    fill_missing_values_with_mean,\n",
    ")\n",
    "\n",
    "from utils.modelhelper import (\n",
    "    ProbBinaryClassifier,\n",
    "    ModelValidator\n",
    ")\n",
    "\n",
    "import pandas as pd\n",
    "import shap\n",
    "pd.set_option('display.max_columns', 15)\n",
    "pd.set_option('display.width', 1000) # for print\n",
    "\n",
    "titanic_train_path = current_dir_subpath(\"data/train.csv\")\n",
    "titanic_test_path = current_dir_subpath(\"data/test.csv\")\n",
    "label_name = \"Survived\"\n",
    "one_hot_cols = [\"Sex\"]\n",
    "\n",
    "titanic = KaggleData(\n",
    "     train_path = titanic_train_path,\n",
    "     test_path = titanic_test_path,\n",
    "     label_col=label_name\n",
    ")\n",
    "\n",
    "# load all raw unprocessed data as DataFrame, label as Series\n",
    "# one_hot_cols transfers categorical column to one_hot encoded column \n",
    "train_X_raw_df, test_X_raw_df, train_raw_y = titanic.load(one_hot_cols=one_hot_cols)\n",
    "all_X_raw_df = titanic.load_all(one_hot_cols=one_hot_cols)"
   ]
  },
  {
   "attachments": {},
   "cell_type": "markdown",
   "metadata": {},
   "source": [
    "## Explore numerical features in different data sets"
   ]
  },
  {
   "cell_type": "code",
   "execution_count": 56,
   "metadata": {},
   "outputs": [
    {
     "name": "stdout",
     "output_type": "stream",
     "text": [
      "['PassengerId', 'Pclass', 'Age', 'SibSp', 'Parch', 'Fare', 'Sex_female', 'Sex_male']\n"
     ]
    }
   ],
   "source": [
    "# detect the numerical features for building classifier\n",
    "num_features = all_X_raw_df.describe().columns.to_list()\n",
    "print(num_features)"
   ]
  },
  {
   "cell_type": "code",
   "execution_count": 57,
   "metadata": {},
   "outputs": [
    {
     "name": "stdout",
     "output_type": "stream",
     "text": [
      "Profile of Raw Training Dataset\n",
      "Shape: (891, 12)\n",
      "Numerical Columns: ['PassengerId', 'Pclass', 'Age', 'SibSp', 'Parch', 'Fare', 'Sex_female', 'Sex_male']\n",
      "Num. Columns ['Age'] has total no. of NaN : 177\n",
      "       PassengerId      Pclass         Age       SibSp       Parch        Fare  Sex_female    Sex_male\n",
      "count   891.000000  891.000000  714.000000  891.000000  891.000000  891.000000  891.000000  891.000000\n",
      "mean    446.000000    2.308642   29.699118    0.523008    0.381594   32.204208    0.352413    0.647587\n",
      "std     257.353842    0.836071   14.526497    1.102743    0.806057   49.693429    0.477990    0.477990\n",
      "min       1.000000    1.000000    0.420000    0.000000    0.000000    0.000000    0.000000    0.000000\n",
      "25%     223.500000    2.000000   20.125000    0.000000    0.000000    7.910400    0.000000    0.000000\n",
      "50%     446.000000    3.000000   28.000000    0.000000    0.000000   14.454200    0.000000    1.000000\n",
      "75%     668.500000    3.000000   38.000000    1.000000    0.000000   31.000000    1.000000    1.000000\n",
      "max     891.000000    3.000000   80.000000    8.000000    6.000000  512.329200    1.000000    1.000000\n",
      "\n",
      "####################\n",
      "Profile of Raw Test Dataset\n",
      "Shape: (418, 12)\n",
      "Numerical Columns: ['PassengerId', 'Pclass', 'Age', 'SibSp', 'Parch', 'Fare', 'Sex_female', 'Sex_male']\n",
      "Num. Columns ['Age', 'Fare'] has total no. of NaN : 87\n",
      "       PassengerId      Pclass         Age       SibSp       Parch        Fare  Sex_female    Sex_male\n",
      "count   418.000000  418.000000  332.000000  418.000000  418.000000  417.000000  418.000000  418.000000\n",
      "mean   1100.500000    2.265550   30.272590    0.447368    0.392344   35.627188    0.363636    0.636364\n",
      "std     120.810458    0.841838   14.181209    0.896760    0.981429   55.907576    0.481622    0.481622\n",
      "min     892.000000    1.000000    0.170000    0.000000    0.000000    0.000000    0.000000    0.000000\n",
      "25%     996.250000    1.000000   21.000000    0.000000    0.000000    7.895800    0.000000    0.000000\n",
      "50%    1100.500000    3.000000   27.000000    0.000000    0.000000   14.454200    0.000000    1.000000\n",
      "75%    1204.750000    3.000000   39.000000    1.000000    0.000000   31.500000    1.000000    1.000000\n",
      "max    1309.000000    3.000000   76.000000    8.000000    9.000000  512.329200    1.000000    1.000000\n"
     ]
    }
   ],
   "source": [
    "profile(train_X_raw_df, title=\"Profile of Raw Training Dataset\")\n",
    "print(\"\\n\" + \"#\" * 20)\n",
    "profile(test_X_raw_df, title=\"Profile of Raw Test Dataset\")"
   ]
  },
  {
   "cell_type": "code",
   "execution_count": 58,
   "metadata": {},
   "outputs": [
    {
     "data": {
      "image/png": "[encoded data removed]",
      "text/plain": [
       "<Figure size 640x480 with 1 Axes>"
      ]
     },
     "metadata": {},
     "output_type": "display_data"
    }
   ],
   "source": [
    "# titanic.boxplot_dist([\"PassengerId\", \"Fare\", \"Age\"], marker=\"x\", orient=\"h\", legend=\"upper right\", dark_mode=DARK_MODE)\n",
    "titanic.boxplot_dist([\"Fare\", \"Age\"], marker=\"x\", orient=\"h\", legend=\"upper right\", dark_mode=DARK_MODE)"
   ]
  },
  {
   "cell_type": "code",
   "execution_count": 59,
   "metadata": {},
   "outputs": [
    {
     "data": {
      "image/png": "[encoded data removed]",
      "text/plain": [
       "<Figure size 640x480 with 1 Axes>"
      ]
     },
     "metadata": {},
     "output_type": "display_data"
    }
   ],
   "source": [
    "titanic.boxplot_dist(['Pclass', 'SibSp', 'Parch'], marker=\"x\", orient=\"h\", legend=\"upper right\", dark_mode=DARK_MODE)"
   ]
  },
  {
   "attachments": {},
   "cell_type": "markdown",
   "metadata": {},
   "source": [
    "## Data Inputation\n",
    "\n",
    "replace the NaN values of numerical features in training and test dataset"
   ]
  },
  {
   "cell_type": "code",
   "execution_count": 60,
   "metadata": {},
   "outputs": [],
   "source": [
    "# train_X_raw_df.describe()\n",
    "# test_X_raw_df.describe()\n",
    "# all_X_raw_df.describe()"
   ]
  },
  {
   "cell_type": "code",
   "execution_count": 61,
   "metadata": {},
   "outputs": [],
   "source": [
    "def filter_values(x):\n",
    "    \"\"\"x is tuple with two positions\"\"\"\n",
    "    match x[0]:\n",
    "        case \"Age\":\n",
    "            return (x[0], round(x[1]))\n",
    "        case \"Fare\":\n",
    "            return (x[0], round(x[1], 4)) # returns float with rounded 4 decimals\n",
    "        case _:\n",
    "            return x   "
   ]
  },
  {
   "cell_type": "code",
   "execution_count": 62,
   "metadata": {},
   "outputs": [
    {
     "name": "stdout",
     "output_type": "stream",
     "text": [
      "{'Age': 30}\n",
      "no. of numerical cols. has NaN values: 0\n"
     ]
    }
   ],
   "source": [
    "train_X_raw_df, train_mean_dict = fill_missing_values_with_mean(\n",
    "    df=train_X_raw_df, pop_df=all_X_raw_df, filter_cols=num_features, filter_func=filter_values)\n",
    "print(train_mean_dict)\n",
    "print(f\"no. of numerical cols. has NaN values: {len(na_columns(train_X_raw_df, num_features))}\")"
   ]
  },
  {
   "cell_type": "code",
   "execution_count": 63,
   "metadata": {},
   "outputs": [
    {
     "name": "stdout",
     "output_type": "stream",
     "text": [
      "{'Age': 30, 'Fare': 33.2955}\n",
      "no. of numerical cols. has NaN values: 0\n"
     ]
    }
   ],
   "source": [
    "test_X_raw_df, test_mean_dict = fill_missing_values_with_mean(\n",
    "    df=test_X_raw_df, pop_df=all_X_raw_df, filter_cols=num_features, filter_func=filter_values)\n",
    "print(test_mean_dict)\n",
    "print(f\"no. of numerical cols. has NaN values: {len(na_columns(test_X_raw_df, num_features))}\")\n"
   ]
  },
  {
   "attachments": {},
   "cell_type": "markdown",
   "metadata": {},
   "source": [
    "## Examining the correlation of numerical features and labels"
   ]
  },
  {
   "cell_type": "code",
   "execution_count": 64,
   "metadata": {},
   "outputs": [
    {
     "data": {
      "text/html": [
       "<div>\n",
       "<style scoped>\n",
       "    .dataframe tbody tr th:only-of-type {\n",
       "        vertical-align: middle;\n",
       "    }\n",
       "\n",
       "    .dataframe tbody tr th {\n",
       "        vertical-align: top;\n",
       "    }\n",
       "\n",
       "    .dataframe thead th {\n",
       "        text-align: right;\n",
       "    }\n",
       "</style>\n",
       "<table border=\"1\" class=\"dataframe\">\n",
       "  <thead>\n",
       "    <tr style=\"text-align: right;\">\n",
       "      <th></th>\n",
       "      <th>PassengerId</th>\n",
       "      <th>Pclass</th>\n",
       "      <th>Age</th>\n",
       "      <th>SibSp</th>\n",
       "      <th>Parch</th>\n",
       "      <th>Fare</th>\n",
       "      <th>Sex_female</th>\n",
       "      <th>Sex_male</th>\n",
       "      <th>Survived</th>\n",
       "    </tr>\n",
       "  </thead>\n",
       "  <tbody>\n",
       "    <tr>\n",
       "      <th>PassengerId</th>\n",
       "      <td>1.000000</td>\n",
       "      <td>-0.035144</td>\n",
       "      <td>0.033019</td>\n",
       "      <td>-0.057527</td>\n",
       "      <td>-0.001652</td>\n",
       "      <td>0.012658</td>\n",
       "      <td>-0.042939</td>\n",
       "      <td>0.042939</td>\n",
       "      <td>-0.005007</td>\n",
       "    </tr>\n",
       "    <tr>\n",
       "      <th>Pclass</th>\n",
       "      <td>-0.035144</td>\n",
       "      <td>1.000000</td>\n",
       "      <td>-0.329727</td>\n",
       "      <td>0.083081</td>\n",
       "      <td>0.018443</td>\n",
       "      <td>-0.549500</td>\n",
       "      <td>-0.131900</td>\n",
       "      <td>0.131900</td>\n",
       "      <td>-0.338481</td>\n",
       "    </tr>\n",
       "    <tr>\n",
       "      <th>Age</th>\n",
       "      <td>0.033019</td>\n",
       "      <td>-0.329727</td>\n",
       "      <td>1.000000</td>\n",
       "      <td>-0.232440</td>\n",
       "      <td>-0.180330</td>\n",
       "      <td>0.090632</td>\n",
       "      <td>-0.084660</td>\n",
       "      <td>0.084660</td>\n",
       "      <td>-0.070657</td>\n",
       "    </tr>\n",
       "    <tr>\n",
       "      <th>SibSp</th>\n",
       "      <td>-0.057527</td>\n",
       "      <td>0.083081</td>\n",
       "      <td>-0.232440</td>\n",
       "      <td>1.000000</td>\n",
       "      <td>0.414838</td>\n",
       "      <td>0.159651</td>\n",
       "      <td>0.114631</td>\n",
       "      <td>-0.114631</td>\n",
       "      <td>-0.035322</td>\n",
       "    </tr>\n",
       "    <tr>\n",
       "      <th>Parch</th>\n",
       "      <td>-0.001652</td>\n",
       "      <td>0.018443</td>\n",
       "      <td>-0.180330</td>\n",
       "      <td>0.414838</td>\n",
       "      <td>1.000000</td>\n",
       "      <td>0.216225</td>\n",
       "      <td>0.245489</td>\n",
       "      <td>-0.245489</td>\n",
       "      <td>0.081629</td>\n",
       "    </tr>\n",
       "    <tr>\n",
       "      <th>Fare</th>\n",
       "      <td>0.012658</td>\n",
       "      <td>-0.549500</td>\n",
       "      <td>0.090632</td>\n",
       "      <td>0.159651</td>\n",
       "      <td>0.216225</td>\n",
       "      <td>1.000000</td>\n",
       "      <td>0.182333</td>\n",
       "      <td>-0.182333</td>\n",
       "      <td>0.257307</td>\n",
       "    </tr>\n",
       "    <tr>\n",
       "      <th>Sex_female</th>\n",
       "      <td>-0.042939</td>\n",
       "      <td>-0.131900</td>\n",
       "      <td>-0.084660</td>\n",
       "      <td>0.114631</td>\n",
       "      <td>0.245489</td>\n",
       "      <td>0.182333</td>\n",
       "      <td>1.000000</td>\n",
       "      <td>-1.000000</td>\n",
       "      <td>0.543351</td>\n",
       "    </tr>\n",
       "    <tr>\n",
       "      <th>Sex_male</th>\n",
       "      <td>0.042939</td>\n",
       "      <td>0.131900</td>\n",
       "      <td>0.084660</td>\n",
       "      <td>-0.114631</td>\n",
       "      <td>-0.245489</td>\n",
       "      <td>-0.182333</td>\n",
       "      <td>-1.000000</td>\n",
       "      <td>1.000000</td>\n",
       "      <td>-0.543351</td>\n",
       "    </tr>\n",
       "    <tr>\n",
       "      <th>Survived</th>\n",
       "      <td>-0.005007</td>\n",
       "      <td>-0.338481</td>\n",
       "      <td>-0.070657</td>\n",
       "      <td>-0.035322</td>\n",
       "      <td>0.081629</td>\n",
       "      <td>0.257307</td>\n",
       "      <td>0.543351</td>\n",
       "      <td>-0.543351</td>\n",
       "      <td>1.000000</td>\n",
       "    </tr>\n",
       "  </tbody>\n",
       "</table>\n",
       "</div>"
      ],
      "text/plain": [
       "             PassengerId    Pclass       Age     SibSp     Parch      Fare  Sex_female  Sex_male  Survived\n",
       "PassengerId     1.000000 -0.035144  0.033019 -0.057527 -0.001652  0.012658   -0.042939  0.042939 -0.005007\n",
       "Pclass         -0.035144  1.000000 -0.329727  0.083081  0.018443 -0.549500   -0.131900  0.131900 -0.338481\n",
       "Age             0.033019 -0.329727  1.000000 -0.232440 -0.180330  0.090632   -0.084660  0.084660 -0.070657\n",
       "SibSp          -0.057527  0.083081 -0.232440  1.000000  0.414838  0.159651    0.114631 -0.114631 -0.035322\n",
       "Parch          -0.001652  0.018443 -0.180330  0.414838  1.000000  0.216225    0.245489 -0.245489  0.081629\n",
       "Fare            0.012658 -0.549500  0.090632  0.159651  0.216225  1.000000    0.182333 -0.182333  0.257307\n",
       "Sex_female     -0.042939 -0.131900 -0.084660  0.114631  0.245489  0.182333    1.000000 -1.000000  0.543351\n",
       "Sex_male        0.042939  0.131900  0.084660 -0.114631 -0.245489 -0.182333   -1.000000  1.000000 -0.543351\n",
       "Survived       -0.005007 -0.338481 -0.070657 -0.035322  0.081629  0.257307    0.543351 -0.543351  1.000000"
      ]
     },
     "execution_count": 64,
     "metadata": {},
     "output_type": "execute_result"
    }
   ],
   "source": [
    "train_X_y_raw_df = pd.concat([train_X_raw_df, train_raw_y], axis=1)\n",
    "threshold = 0.2\n",
    "corr_df, high_corr_df = feature_correlation(train_X_y_raw_df, label=label_name, threshold=threshold)\n",
    "corr_df\n"
   ]
  },
  {
   "cell_type": "code",
   "execution_count": 65,
   "metadata": {},
   "outputs": [
    {
     "data": {
      "text/html": [
       "<div>\n",
       "<style scoped>\n",
       "    .dataframe tbody tr th:only-of-type {\n",
       "        vertical-align: middle;\n",
       "    }\n",
       "\n",
       "    .dataframe tbody tr th {\n",
       "        vertical-align: top;\n",
       "    }\n",
       "\n",
       "    .dataframe thead th {\n",
       "        text-align: right;\n",
       "    }\n",
       "</style>\n",
       "<table border=\"1\" class=\"dataframe\">\n",
       "  <thead>\n",
       "    <tr style=\"text-align: right;\">\n",
       "      <th></th>\n",
       "      <th>Survived</th>\n",
       "    </tr>\n",
       "  </thead>\n",
       "  <tbody>\n",
       "    <tr>\n",
       "      <th>Pclass</th>\n",
       "      <td>-0.338481</td>\n",
       "    </tr>\n",
       "    <tr>\n",
       "      <th>Fare</th>\n",
       "      <td>0.257307</td>\n",
       "    </tr>\n",
       "    <tr>\n",
       "      <th>Sex_female</th>\n",
       "      <td>0.543351</td>\n",
       "    </tr>\n",
       "    <tr>\n",
       "      <th>Sex_male</th>\n",
       "      <td>-0.543351</td>\n",
       "    </tr>\n",
       "    <tr>\n",
       "      <th>Survived</th>\n",
       "      <td>1.000000</td>\n",
       "    </tr>\n",
       "  </tbody>\n",
       "</table>\n",
       "</div>"
      ],
      "text/plain": [
       "            Survived\n",
       "Pclass     -0.338481\n",
       "Fare        0.257307\n",
       "Sex_female  0.543351\n",
       "Sex_male   -0.543351\n",
       "Survived    1.000000"
      ]
     },
     "execution_count": 65,
     "metadata": {},
     "output_type": "execute_result"
    }
   ],
   "source": [
    "# display the features with high correlation to the label\n",
    "high_corr_df"
   ]
  },
  {
   "attachments": {},
   "cell_type": "markdown",
   "metadata": {},
   "source": [
    "## Model: naiv gender based"
   ]
  },
  {
   "cell_type": "code",
   "execution_count": 66,
   "metadata": {},
   "outputs": [
    {
     "name": "stdout",
     "output_type": "stream",
     "text": [
      "% of women who survied: 74.20%\n"
     ]
    }
   ],
   "source": [
    "women = train_X_y_raw_df.loc[train_X_y_raw_df[\"Sex_female\"] == 1][\"Survived\"]\n",
    "rate_women = sum(women) / len(women)\n",
    "print(f\"% of women who survied: {rate_women:.2%}\")"
   ]
  },
  {
   "cell_type": "code",
   "execution_count": 67,
   "metadata": {},
   "outputs": [
    {
     "name": "stdout",
     "output_type": "stream",
     "text": [
      "% of men who survied: 18.89%\n"
     ]
    }
   ],
   "source": [
    "men = train_X_y_raw_df.loc[train_X_y_raw_df[\"Sex_male\"] == 1][\"Survived\"]\n",
    "rate_men = sum(men) / len(men)\n",
    "print(f\"% of men who survied: {rate_men:.2%}\")"
   ]
  },
  {
   "cell_type": "code",
   "execution_count": 68,
   "metadata": {},
   "outputs": [],
   "source": [
    "# split the training data\n",
    "X_train, X_valid, y_train, y_valid = titanic.split(train_X_raw_df, train_raw_y, test_size=0.2, random_state=10)"
   ]
  },
  {
   "cell_type": "code",
   "execution_count": 69,
   "metadata": {},
   "outputs": [],
   "source": [
    "feature_position = ProbBinaryClassifier.feature_position(X_train, \"Sex_female\")\n",
    "# config model\n",
    "model = ProbBinaryClassifier(feature_position, 1)\n",
    "# Train model\n",
    "model.fit(X_train, y_train)\n",
    "# Validate model\n",
    "predicts = model.predict(X_valid)\n",
    "\n",
    "# print(model._rate)\n",
    "# print(predicts.shape)\n",
    "# #output first 10 prediction\n",
    "# print(predicts[:20])\n"
   ]
  },
  {
   "cell_type": "code",
   "execution_count": 70,
   "metadata": {},
   "outputs": [
    {
     "name": "stdout",
     "output_type": "stream",
     "text": [
      "## conf_mat_df:\n",
      "          Perished  Survived\n",
      "Perished        27        90\n",
      "Survived        14        48\n",
      "\n",
      "## conf_mat:\n",
      "[[27 90]\n",
      " [14 48]]\n",
      "\n",
      "## f1:\n",
      "0.48\n",
      "\n",
      "## acc:\n",
      "0.41899441340782123\n",
      "\n",
      "## roc_fpr:\n",
      "[0.         0.76923077 1.        ]\n",
      "\n",
      "## roc_tpr:\n",
      "[0.         0.77419355 1.        ]\n",
      "\n",
      "## roc_thresholds:\n",
      "[2 1 0]\n",
      "\n",
      "## auc:\n",
      "0.5024813895781638\n",
      "\n"
     ]
    }
   ],
   "source": [
    "validator = ModelValidator(y_valid, predicts)\n",
    "scores_dict = validator.evaluate()\n",
    "validator.print_eval_result(scores_dict)"
   ]
  },
  {
   "cell_type": "code",
   "execution_count": 71,
   "metadata": {},
   "outputs": [
    {
     "data": {
      "text/plain": [
       "<sklearn.metrics._plot.confusion_matrix.ConfusionMatrixDisplay at 0x28b3d4190>"
      ]
     },
     "execution_count": 71,
     "metadata": {},
     "output_type": "execute_result"
    },
    {
     "data": {
      "image/png": "[encoded data removed]",
      "text/plain": [
       "<Figure size 640x480 with 2 Axes>"
      ]
     },
     "metadata": {},
     "output_type": "display_data"
    }
   ],
   "source": [
    "validator.display_confusion_matrix()\n",
    "# 83 is false positive (false predicted to positive label, which has negative label as ground truth)"
   ]
  },
  {
   "cell_type": "code",
   "execution_count": 72,
   "metadata": {},
   "outputs": [
    {
     "data": {
      "text/plain": [
       "<sklearn.metrics._plot.roc_curve.RocCurveDisplay at 0x28bb2a2f0>"
      ]
     },
     "execution_count": 72,
     "metadata": {},
     "output_type": "execute_result"
    },
    {
     "data": {
      "image/png": "[encoded data removed]",
      "text/plain": [
       "<Figure size 640x480 with 1 Axes>"
      ]
     },
     "metadata": {},
     "output_type": "display_data"
    }
   ],
   "source": [
    "validator.display_roc_curve()"
   ]
  },
  {
   "attachments": {},
   "cell_type": "markdown",
   "metadata": {},
   "source": [
    "## Model input feature attribution"
   ]
  }
 ],
 "metadata": {
  "kernelspec": {
   "display_name": "shap3.10",
   "language": "python",
   "name": "python3"
  },
  "language_info": {
   "codemirror_mode": {
    "name": "ipython",
    "version": 3
   },
   "file_extension": ".py",
   "mimetype": "text/x-python",
   "name": "python",
   "nbconvert_exporter": "python",
   "pygments_lexer": "ipython3",
   "version": "3.10.9"
  },
  "orig_nbformat": 4
 },
 "nbformat": 4,
 "nbformat_minor": 2
}
